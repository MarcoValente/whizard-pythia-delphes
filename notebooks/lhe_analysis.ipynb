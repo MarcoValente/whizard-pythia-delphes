{
 "cells": [
  {
   "cell_type": "code",
   "execution_count": 1,
   "metadata": {},
   "outputs": [
    {
     "ename": "FileNotFoundError",
     "evalue": "[Errno 2] No such file or directory: '../files/output/test/15TeV/mumu_nunuHH.lhe'",
     "output_type": "error",
     "traceback": [
      "\u001b[0;31m---------------------------------------------------------------------------\u001b[0m",
      "\u001b[0;31mFileNotFoundError\u001b[0m                         Traceback (most recent call last)",
      "\u001b[0;32m<ipython-input-1-27a787eb8148>\u001b[0m in \u001b[0;36m<module>\u001b[0;34m\u001b[0m\n\u001b[1;32m     66\u001b[0m }\n\u001b[1;32m     67\u001b[0m \u001b[0;34m\u001b[0m\u001b[0m\n\u001b[0;32m---> 68\u001b[0;31m \u001b[0mlhea\u001b[0m\u001b[0;34m.\u001b[0m\u001b[0mfillHistograms\u001b[0m\u001b[0;34m(\u001b[0m\u001b[0mvalues_dict\u001b[0m\u001b[0;34m,\u001b[0m \u001b[0mlhe_filename\u001b[0m\u001b[0;34m)\u001b[0m\u001b[0;34m\u001b[0m\u001b[0;34m\u001b[0m\u001b[0m\n\u001b[0m",
      "\u001b[0;32m~/MuonCollider/whizard-pythia-delphes/notebooks/lheanalysis.py\u001b[0m in \u001b[0;36mfillHistograms\u001b[0;34m(values, lhe_file)\u001b[0m\n\u001b[1;32m    181\u001b[0m     \u001b[0;32mif\u001b[0m \u001b[0misinstance\u001b[0m\u001b[0;34m(\u001b[0m\u001b[0mlhe_file\u001b[0m\u001b[0;34m,\u001b[0m\u001b[0mstr\u001b[0m\u001b[0;34m)\u001b[0m\u001b[0;34m:\u001b[0m\u001b[0;34m\u001b[0m\u001b[0;34m\u001b[0m\u001b[0m\n\u001b[1;32m    182\u001b[0m         \u001b[0mlhe_file\u001b[0m \u001b[0;34m=\u001b[0m \u001b[0mpylhe\u001b[0m\u001b[0;34m.\u001b[0m\u001b[0mreadLHE\u001b[0m\u001b[0;34m(\u001b[0m\u001b[0mlhe_file\u001b[0m\u001b[0;34m)\u001b[0m\u001b[0;34m\u001b[0m\u001b[0;34m\u001b[0m\u001b[0m\n\u001b[0;32m--> 183\u001b[0;31m     \u001b[0;32mfor\u001b[0m \u001b[0mevt\u001b[0m \u001b[0;32min\u001b[0m \u001b[0mlhe_file\u001b[0m\u001b[0;34m:\u001b[0m\u001b[0;34m\u001b[0m\u001b[0;34m\u001b[0m\u001b[0m\n\u001b[0m\u001b[1;32m    184\u001b[0m         \u001b[0mqs\u001b[0m \u001b[0;34m=\u001b[0m \u001b[0mgetQuantities\u001b[0m\u001b[0;34m(\u001b[0m\u001b[0mevt\u001b[0m\u001b[0;34m)\u001b[0m\u001b[0;34m\u001b[0m\u001b[0;34m\u001b[0m\u001b[0m\n\u001b[1;32m    185\u001b[0m         \u001b[0;32mfor\u001b[0m \u001b[0mname\u001b[0m\u001b[0;34m,\u001b[0m \u001b[0mv_dict\u001b[0m \u001b[0;32min\u001b[0m \u001b[0mvalues\u001b[0m\u001b[0;34m.\u001b[0m\u001b[0mitems\u001b[0m\u001b[0;34m(\u001b[0m\u001b[0;34m)\u001b[0m\u001b[0;34m:\u001b[0m\u001b[0;34m\u001b[0m\u001b[0;34m\u001b[0m\u001b[0m\n",
      "\u001b[0;32m~/MuonCollider/whizard-pythia-delphes/venv/lib64/python3.6/site-packages/pylhe/__init__.py\u001b[0m in \u001b[0;36mreadLHE\u001b[0;34m(filepath)\u001b[0m\n\u001b[1;32m    193\u001b[0m \u001b[0;32mdef\u001b[0m \u001b[0mreadLHE\u001b[0m\u001b[0;34m(\u001b[0m\u001b[0mfilepath\u001b[0m\u001b[0;34m)\u001b[0m\u001b[0;34m:\u001b[0m\u001b[0;34m\u001b[0m\u001b[0;34m\u001b[0m\u001b[0m\n\u001b[1;32m    194\u001b[0m     \u001b[0;32mtry\u001b[0m\u001b[0;34m:\u001b[0m\u001b[0;34m\u001b[0m\u001b[0;34m\u001b[0m\u001b[0m\n\u001b[0;32m--> 195\u001b[0;31m         \u001b[0;32mwith\u001b[0m \u001b[0m_extract_fileobj\u001b[0m\u001b[0;34m(\u001b[0m\u001b[0mfilepath\u001b[0m\u001b[0;34m)\u001b[0m \u001b[0;32mas\u001b[0m \u001b[0mfileobj\u001b[0m\u001b[0;34m:\u001b[0m\u001b[0;34m\u001b[0m\u001b[0;34m\u001b[0m\u001b[0m\n\u001b[0m\u001b[1;32m    196\u001b[0m             \u001b[0;32mfor\u001b[0m \u001b[0mevent\u001b[0m\u001b[0;34m,\u001b[0m \u001b[0melement\u001b[0m \u001b[0;32min\u001b[0m \u001b[0mET\u001b[0m\u001b[0;34m.\u001b[0m\u001b[0miterparse\u001b[0m\u001b[0;34m(\u001b[0m\u001b[0mfileobj\u001b[0m\u001b[0;34m,\u001b[0m \u001b[0mevents\u001b[0m\u001b[0;34m=\u001b[0m\u001b[0;34m[\u001b[0m\u001b[0;34m\"end\"\u001b[0m\u001b[0;34m]\u001b[0m\u001b[0;34m)\u001b[0m\u001b[0;34m:\u001b[0m\u001b[0;34m\u001b[0m\u001b[0;34m\u001b[0m\u001b[0m\n\u001b[1;32m    197\u001b[0m                 \u001b[0;32mif\u001b[0m \u001b[0melement\u001b[0m\u001b[0;34m.\u001b[0m\u001b[0mtag\u001b[0m \u001b[0;34m==\u001b[0m \u001b[0;34m\"event\"\u001b[0m\u001b[0;34m:\u001b[0m\u001b[0;34m\u001b[0m\u001b[0;34m\u001b[0m\u001b[0m\n",
      "\u001b[0;32m~/MuonCollider/whizard-pythia-delphes/venv/lib64/python3.6/site-packages/pylhe/__init__.py\u001b[0m in \u001b[0;36m_extract_fileobj\u001b[0;34m(filepath)\u001b[0m\n\u001b[1;32m    133\u001b[0m         \u001b[0m_io\u001b[0m\u001b[0;34m.\u001b[0m\u001b[0mBufferedReader\u001b[0m \u001b[0;32mor\u001b[0m \u001b[0mgzip\u001b[0m\u001b[0;34m.\u001b[0m\u001b[0mGzipFile\u001b[0m\u001b[0;34m:\u001b[0m \u001b[0mA\u001b[0m \u001b[0mfile\u001b[0m \u001b[0mobject\u001b[0m \u001b[0mcontaining\u001b[0m \u001b[0mXML\u001b[0m \u001b[0mdata\u001b[0m\u001b[0;34m.\u001b[0m\u001b[0;34m\u001b[0m\u001b[0;34m\u001b[0m\u001b[0m\n\u001b[1;32m    134\u001b[0m     \"\"\"\n\u001b[0;32m--> 135\u001b[0;31m     \u001b[0;32mwith\u001b[0m \u001b[0mopen\u001b[0m\u001b[0;34m(\u001b[0m\u001b[0mfilepath\u001b[0m\u001b[0;34m,\u001b[0m \u001b[0;34m\"rb\"\u001b[0m\u001b[0;34m)\u001b[0m \u001b[0;32mas\u001b[0m \u001b[0mgzip_file\u001b[0m\u001b[0;34m:\u001b[0m\u001b[0;34m\u001b[0m\u001b[0;34m\u001b[0m\u001b[0m\n\u001b[0m\u001b[1;32m    136\u001b[0m         \u001b[0mheader\u001b[0m \u001b[0;34m=\u001b[0m \u001b[0mgzip_file\u001b[0m\u001b[0;34m.\u001b[0m\u001b[0mread\u001b[0m\u001b[0;34m(\u001b[0m\u001b[0;36m2\u001b[0m\u001b[0;34m)\u001b[0m\u001b[0;34m\u001b[0m\u001b[0;34m\u001b[0m\u001b[0m\n\u001b[1;32m    137\u001b[0m     \u001b[0mgzip_magic_number\u001b[0m \u001b[0;34m=\u001b[0m \u001b[0;34mb\"\\x1f\\x8b\"\u001b[0m\u001b[0;34m\u001b[0m\u001b[0;34m\u001b[0m\u001b[0m\n",
      "\u001b[0;31mFileNotFoundError\u001b[0m: [Errno 2] No such file or directory: '../files/output/test/15TeV/mumu_nunuHH.lhe'"
     ]
    }
   ],
   "source": [
    "import lheanalysis as lhea\n",
    "\n",
    "lhe_filename = '../grid_outputs/whizard/user.valentem.singularity_whizard.HH_kl1.220817_0740_lhe/hhdec.lhe'\n",
    "\n",
    "values_dict = {\n",
    "    'vbf_vmu_pz': {\n",
    "        'hist_opts' : {'bins':40,'range':(0,8000)},\n",
    "        'plot_opts': {'xlabel': '$p_z$ (GeV)', 'logy' : True},\n",
    "        'vals' : [],\n",
    "    },\n",
    "    'vbf_vmu_pt': {\n",
    "        'hist_opts' : {'bins':50,'range':(0,1000)},\n",
    "        'plot_opts': {'xlabel': '$p_T (GeV)$'},\n",
    "        'vals' : [],\n",
    "    },\n",
    "    'MET': {\n",
    "        'hist_opts' : {'bins':25,'range':(0,500)},\n",
    "        'plot_opts': {'xlabel': '$MET (GeV)$'},\n",
    "        'vals' : [],\n",
    "    },\n",
    "    'nb': {\n",
    "        'hist_opts' : {'bins':10,'range':(0,10)},\n",
    "        'plot_opts': {'xlabel': '$n_b$'},\n",
    "        'vals' : [],\n",
    "    },\n",
    "    'ngluons': {\n",
    "        'hist_opts' : {'bins':10,'range':(0,10)},\n",
    "        'plot_opts': {'xlabel': '$n_g$'},\n",
    "        'vals' : [],\n",
    "    },\n",
    "    'nlep': {\n",
    "        'hist_opts' : {'bins':10,'range':(0,10)},\n",
    "        'plot_opts': {'xlabel': '$n_l$', 'logy': True},\n",
    "        'vals' : [],\n",
    "    },\n",
    "    'ne': {\n",
    "        'hist_opts' : {'bins':10,'range':(0,10)},\n",
    "        'plot_opts': {'xlabel': '$n_e$', 'logy': True},\n",
    "        'vals' : [],\n",
    "    },\n",
    "    'nmu': {\n",
    "        'hist_opts' : {'bins':10,'range':(0,10)},\n",
    "        'plot_opts': {'xlabel': '$n_\\mu$', 'logy': True},\n",
    "        'vals' : [],\n",
    "    },\n",
    "    'ntau': {\n",
    "        'hist_opts' : {'bins':10,'range':(0,10)},\n",
    "        'plot_opts': {'xlabel': '$n_{\\\\tau}$', 'logy': True},\n",
    "        'vals' : [],\n",
    "    },\n",
    "    'mtautau': {\n",
    "        'hist_opts': {'bins': 200, 'range': (0, 200)},\n",
    "        'plot_opts': {'xlabel': '$m_{\\\\tau\\\\tau}$', 'logy': False},\n",
    "        'vals' : [],\n",
    "    },\n",
    "    'mee': {\n",
    "        'hist_opts': {'bins': 200, 'range': (0, 200)},\n",
    "        'plot_opts': {'xlabel': '$m_{ee}$', 'logy': False},\n",
    "        'vals' : [],\n",
    "    },\n",
    "    'mmumu': {\n",
    "        'hist_opts': {'bins': 200, 'range': (0, 200)},\n",
    "        'plot_opts': {'xlabel': '$m_{\\mu\\mu}$', 'logy': False},\n",
    "        'vals' : [],\n",
    "    },\n",
    "}\n",
    "\n",
    "lhea.fillHistograms(values_dict, lhe_filename)\n"
   ]
  },
  {
   "cell_type": "code",
   "execution_count": null,
   "metadata": {},
   "outputs": [],
   "source": [
    "def plotHistogram(vals,hist_dict,plot_dict):\n",
    "    import matplotlib.pyplot as plt\n",
    "    %matplotlib widget\n",
    "\n",
    "    fig = plt.figure()\n",
    "\n",
    "    plt.hist(vals, alpha=0.5, **hist_dict)\n",
    "    # plt.hist(vals)\n",
    "\n",
    "    if 'logy'   in plot_dict: plt.semilogy(plot_dict['logy'])\n",
    "    if 'xlabel' in plot_dict: plt.xlabel(plot_dict['xlabel'])\n",
    "    if 'ylabel' in plot_dict: plt.ylabel(plot_dict['ylabel'])\n",
    "    if 'title'  in plot_dict: plt.ylabel(plot_dict['title'])\n",
    "    # plt.legend(loc='best', ncol=2)\n",
    "\n",
    "    plt.show()\n"
   ]
  },
  {
   "cell_type": "code",
   "execution_count": null,
   "metadata": {},
   "outputs": [],
   "source": [
    "hname = 'vbf_vmu_pz'\n",
    "plotHistogram(values_dict[f'{hname}']['vals'],\n",
    "              values_dict[f'{hname}']['hist_opts'],\n",
    "              values_dict[f'{hname}']['plot_opts'],\n",
    "              )"
   ]
  },
  {
   "cell_type": "code",
   "execution_count": null,
   "metadata": {},
   "outputs": [],
   "source": [
    "hname = 'vbf_vmu_pt'\n",
    "plotHistogram(values_dict[f'{hname}']['vals'],\n",
    "              values_dict[f'{hname}']['hist_opts'],\n",
    "              values_dict[f'{hname}']['plot_opts'],\n",
    "              )\n"
   ]
  },
  {
   "cell_type": "code",
   "execution_count": null,
   "metadata": {},
   "outputs": [],
   "source": [
    "hname = 'nb'\n",
    "plotHistogram(values_dict[f'{hname}']['vals'],\n",
    "              values_dict[f'{hname}']['hist_opts'],\n",
    "              values_dict[f'{hname}']['plot_opts'],\n",
    "              )\n"
   ]
  },
  {
   "cell_type": "code",
   "execution_count": null,
   "metadata": {},
   "outputs": [],
   "source": [
    "hname = 'MET'\n",
    "plotHistogram(values_dict[f'{hname}']['vals'],\n",
    "              values_dict[f'{hname}']['hist_opts'],\n",
    "              values_dict[f'{hname}']['plot_opts'],\n",
    "              )\n"
   ]
  },
  {
   "cell_type": "code",
   "execution_count": null,
   "metadata": {},
   "outputs": [],
   "source": [
    "hname = 'ngluons'\n",
    "plotHistogram(values_dict[f'{hname}']['vals'],\n",
    "              values_dict[f'{hname}']['hist_opts'],\n",
    "              values_dict[f'{hname}']['plot_opts'],\n",
    "              )\n"
   ]
  },
  {
   "cell_type": "code",
   "execution_count": null,
   "metadata": {},
   "outputs": [],
   "source": [
    "hname = 'nlep'\n",
    "plotHistogram(values_dict[f'{hname}']['vals'],\n",
    "              values_dict[f'{hname}']['hist_opts'],\n",
    "              values_dict[f'{hname}']['plot_opts'],\n",
    "              )\n"
   ]
  },
  {
   "cell_type": "code",
   "execution_count": null,
   "metadata": {},
   "outputs": [],
   "source": [
    "hname = 'nmu'\n",
    "plotHistogram(values_dict[f'{hname}']['vals'],\n",
    "              values_dict[f'{hname}']['hist_opts'],\n",
    "              values_dict[f'{hname}']['plot_opts'],\n",
    "              )\n"
   ]
  },
  {
   "cell_type": "code",
   "execution_count": null,
   "metadata": {},
   "outputs": [],
   "source": [
    "hname = 'ne'\n",
    "plotHistogram(values_dict[f'{hname}']['vals'],\n",
    "              values_dict[f'{hname}']['hist_opts'],\n",
    "              values_dict[f'{hname}']['plot_opts'],\n",
    "              )\n"
   ]
  },
  {
   "cell_type": "code",
   "execution_count": null,
   "metadata": {},
   "outputs": [],
   "source": [
    "hname = 'ntau'\n",
    "plotHistogram(values_dict[f'{hname}']['vals'],\n",
    "              values_dict[f'{hname}']['hist_opts'],\n",
    "              values_dict[f'{hname}']['plot_opts'],\n",
    "              )\n"
   ]
  },
  {
   "cell_type": "code",
   "execution_count": null,
   "metadata": {},
   "outputs": [],
   "source": [
    "hname = 'mtautau'\n",
    "plotHistogram(values_dict[f'{hname}']['vals'],\n",
    "              values_dict[f'{hname}']['hist_opts'],\n",
    "              values_dict[f'{hname}']['plot_opts'],\n",
    "              )\n"
   ]
  },
  {
   "cell_type": "code",
   "execution_count": null,
   "metadata": {},
   "outputs": [],
   "source": [
    "hname = 'mee'\n",
    "plotHistogram(values_dict[f'{hname}']['vals'],\n",
    "              values_dict[f'{hname}']['hist_opts'],\n",
    "              values_dict[f'{hname}']['plot_opts'],\n",
    "              )\n"
   ]
  },
  {
   "cell_type": "code",
   "execution_count": null,
   "metadata": {},
   "outputs": [],
   "source": [
    "hname = 'mmumu'\n",
    "plotHistogram(values_dict[f'{hname}']['vals'],\n",
    "              values_dict[f'{hname}']['hist_opts'],\n",
    "              values_dict[f'{hname}']['plot_opts'],\n",
    "              )\n"
   ]
  },
  {
   "cell_type": "code",
   "execution_count": null,
   "metadata": {},
   "outputs": [],
   "source": []
  }
 ],
 "metadata": {
  "kernelspec": {
   "display_name": "Python 3.6.8 ('venv': venv)",
   "language": "python",
   "name": "python3"
  },
  "language_info": {
   "codemirror_mode": {
    "name": "ipython",
    "version": 3
   },
   "file_extension": ".py",
   "mimetype": "text/x-python",
   "name": "python",
   "nbconvert_exporter": "python",
   "pygments_lexer": "ipython3",
   "version": "3.6.8"
  },
  "orig_nbformat": 4,
  "vscode": {
   "interpreter": {
    "hash": "ffc0e7004edd790e60668f7af0ed383fd7abc79e43dc18390786fae04475d979"
   }
  }
 },
 "nbformat": 4,
 "nbformat_minor": 2
}
