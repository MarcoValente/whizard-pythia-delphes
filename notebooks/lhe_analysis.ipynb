{
 "cells": [
  {
   "cell_type": "code",
   "execution_count": 1,
   "metadata": {},
   "outputs": [],
   "source": [
    "import lheanalysis as lhea\n",
    "\n",
    "lhe_filename = '/afs/cern.ch/user/v/valentem/MuonCollider/grid_outputs/pythia/user.valentem.pythia.mumu_bbbb.10TeV.NONE.220903_1635_lhe/lhe_nopdf.lhe'\n",
    "\n",
    "values_dict = {\n",
    "    'vbf_vmu_pz': {\n",
    "        'hist_opts' : {'bins':40,'range':(0,8000)},\n",
    "        'plot_opts': {'xlabel': '$p_z$ (GeV)', 'logy' : True},\n",
    "        'vals' : [],\n",
    "    },\n",
    "    'vbf_vmu_pt': {\n",
    "        'hist_opts' : {'bins':50,'range':(0,1000)},\n",
    "        'plot_opts': {'xlabel': '$p_T (GeV)$'},\n",
    "        'vals' : [],\n",
    "    },\n",
    "    'MET': {\n",
    "        'hist_opts' : {'bins':25,'range':(0,500)},\n",
    "        'plot_opts': {'xlabel': '$MET (GeV)$'},\n",
    "        'vals' : [],\n",
    "    },\n",
    "    'nb': {\n",
    "        'hist_opts' : {'bins':10,'range':(0,10)},\n",
    "        'plot_opts': {'xlabel': '$n_b$'},\n",
    "        'vals' : [],\n",
    "    },\n",
    "    'bs_pt': {\n",
    "        'hist_opts' : {'bins':100,'range':(0,1000)},\n",
    "        'plot_opts': {'xlabel': '$p_T^b (GeV)$'},\n",
    "        'vals' : [],\n",
    "    },\n",
    "    'bs_eta': {\n",
    "        'hist_opts' : {'bins':50,'range':(-5,5)},\n",
    "        'plot_opts': {'xlabel': '$\\eta^b (GeV)$'},\n",
    "        'vals' : [],\n",
    "    },\n",
    "    'firb_pt': {\n",
    "        'hist_opts' : {'bins':100,'range':(0,1000)},\n",
    "        'plot_opts': {'xlabel': '$p_T^{lead b} (GeV)$'},\n",
    "        'vals' : [],\n",
    "    },\n",
    "    'firb_eta': {\n",
    "        'hist_opts' : {'bins':50,'range':(-5,5)},\n",
    "        'plot_opts': {'xlabel': '$\\eta^{lead b} (GeV)$'},\n",
    "        'vals' : [],\n",
    "    },\n",
    "    'bs_eta': {\n",
    "        'hist_opts' : {'bins':50,'range':(-5,5)},\n",
    "        'plot_opts': {'xlabel': '$\\eta^b (GeV)$'},\n",
    "        'vals' : [],\n",
    "    },\n",
    "    'ngluons': {\n",
    "        'hist_opts' : {'bins':10,'range':(0,10)},\n",
    "        'plot_opts': {'xlabel': '$n_g$'},\n",
    "        'vals' : [],\n",
    "    },\n",
    "    'nlep': {\n",
    "        'hist_opts' : {'bins':10,'range':(0,10)},\n",
    "        'plot_opts': {'xlabel': '$n_l$', 'logy': True},\n",
    "        'vals' : [],\n",
    "    },\n",
    "    'ne': {\n",
    "        'hist_opts' : {'bins':10,'range':(0,10)},\n",
    "        'plot_opts': {'xlabel': '$n_e$', 'logy': True},\n",
    "        'vals' : [],\n",
    "    },\n",
    "    'nmu': {\n",
    "        'hist_opts' : {'bins':10,'range':(0,10)},\n",
    "        'plot_opts': {'xlabel': '$n_\\mu$', 'logy': True},\n",
    "        'vals' : [],\n",
    "    },\n",
    "    'ntau': {\n",
    "        'hist_opts' : {'bins':10,'range':(0,10)},\n",
    "        'plot_opts': {'xlabel': '$n_{\\\\tau}$', 'logy': True},\n",
    "        'vals' : [],\n",
    "    },\n",
    "    'mtautau': {\n",
    "        'hist_opts': {'bins': 200, 'range': (0, 200)},\n",
    "        'plot_opts': {'xlabel': '$m_{\\\\tau\\\\tau}$', 'logy': False},\n",
    "        'vals' : [],\n",
    "    },\n",
    "    'mee': {\n",
    "        'hist_opts': {'bins': 200, 'range': (0, 200)},\n",
    "        'plot_opts': {'xlabel': '$m_{ee}$', 'logy': False},\n",
    "        'vals' : [],\n",
    "    },\n",
    "    'mmumu': {\n",
    "        'hist_opts': {'bins': 200, 'range': (0, 200)},\n",
    "        'plot_opts': {'xlabel': '$m_{\\mu\\mu}$', 'logy': False},\n",
    "        'vals' : [],\n",
    "    },\n",
    "}\n",
    "\n",
    "lhea.fillHistograms(values_dict, lhe_filename)\n"
   ]
  },
  {
   "cell_type": "code",
   "execution_count": 2,
   "metadata": {},
   "outputs": [],
   "source": [
    "def plotHistogram(vals,hist_dict,plot_dict):\n",
    "    import matplotlib.pyplot as plt\n",
    "    %matplotlib widget\n",
    "\n",
    "    fig = plt.figure()\n",
    "\n",
    "    plt.hist(vals, alpha=0.5, **hist_dict)\n",
    "    # plt.hist(vals)\n",
    "\n",
    "    if 'logy'   in plot_dict: plt.semilogy(plot_dict['logy'])\n",
    "    if 'xlabel' in plot_dict: plt.xlabel(plot_dict['xlabel'])\n",
    "    if 'ylabel' in plot_dict: plt.ylabel(plot_dict['ylabel'])\n",
    "    if 'title'  in plot_dict: plt.ylabel(plot_dict['title'])\n",
    "    # plt.legend(loc='best', ncol=2)\n",
    "\n",
    "    plt.show()\n"
   ]
  },
  {
   "cell_type": "code",
   "execution_count": null,
   "metadata": {},
   "outputs": [],
   "source": [
    "hname = 'vbf_vmu_pz'\n",
    "plotHistogram(values_dict[f'{hname}']['vals'],\n",
    "              values_dict[f'{hname}']['hist_opts'],\n",
    "              values_dict[f'{hname}']['plot_opts'],\n",
    "              )"
   ]
  },
  {
   "cell_type": "code",
   "execution_count": null,
   "metadata": {},
   "outputs": [],
   "source": [
    "hname = 'vbf_vmu_pt'\n",
    "plotHistogram(values_dict[f'{hname}']['vals'],\n",
    "              values_dict[f'{hname}']['hist_opts'],\n",
    "              values_dict[f'{hname}']['plot_opts'],\n",
    "              )\n"
   ]
  },
  {
   "cell_type": "code",
   "execution_count": null,
   "metadata": {},
   "outputs": [],
   "source": [
    "hname = 'nb'\n",
    "plotHistogram(values_dict[f'{hname}']['vals'],\n",
    "              values_dict[f'{hname}']['hist_opts'],\n",
    "              values_dict[f'{hname}']['plot_opts'],\n",
    "              )\n"
   ]
  },
  {
   "cell_type": "code",
   "execution_count": null,
   "metadata": {},
   "outputs": [],
   "source": [
    "hname = 'MET'\n",
    "plotHistogram(values_dict[f'{hname}']['vals'],\n",
    "              values_dict[f'{hname}']['hist_opts'],\n",
    "              values_dict[f'{hname}']['plot_opts'],\n",
    "              )\n"
   ]
  },
  {
   "cell_type": "code",
   "execution_count": null,
   "metadata": {},
   "outputs": [],
   "source": [
    "hname = 'ngluons'\n",
    "plotHistogram(values_dict[f'{hname}']['vals'],\n",
    "              values_dict[f'{hname}']['hist_opts'],\n",
    "              values_dict[f'{hname}']['plot_opts'],\n",
    "              )\n"
   ]
  },
  {
   "cell_type": "code",
   "execution_count": null,
   "metadata": {},
   "outputs": [],
   "source": [
    "hname = 'nlep'\n",
    "plotHistogram(values_dict[f'{hname}']['vals'],\n",
    "              values_dict[f'{hname}']['hist_opts'],\n",
    "              values_dict[f'{hname}']['plot_opts'],\n",
    "              )\n"
   ]
  },
  {
   "cell_type": "code",
   "execution_count": null,
   "metadata": {},
   "outputs": [],
   "source": [
    "hname = 'nmu'\n",
    "plotHistogram(values_dict[f'{hname}']['vals'],\n",
    "              values_dict[f'{hname}']['hist_opts'],\n",
    "              values_dict[f'{hname}']['plot_opts'],\n",
    "              )\n"
   ]
  },
  {
   "cell_type": "code",
   "execution_count": null,
   "metadata": {},
   "outputs": [],
   "source": [
    "hname = 'ne'\n",
    "plotHistogram(values_dict[f'{hname}']['vals'],\n",
    "              values_dict[f'{hname}']['hist_opts'],\n",
    "              values_dict[f'{hname}']['plot_opts'],\n",
    "              )\n"
   ]
  },
  {
   "cell_type": "code",
   "execution_count": null,
   "metadata": {},
   "outputs": [],
   "source": [
    "hname = 'ntau'\n",
    "plotHistogram(values_dict[f'{hname}']['vals'],\n",
    "              values_dict[f'{hname}']['hist_opts'],\n",
    "              values_dict[f'{hname}']['plot_opts'],\n",
    "              )\n"
   ]
  },
  {
   "cell_type": "code",
   "execution_count": null,
   "metadata": {},
   "outputs": [],
   "source": [
    "hname = 'mtautau'\n",
    "plotHistogram(values_dict[f'{hname}']['vals'],\n",
    "              values_dict[f'{hname}']['hist_opts'],\n",
    "              values_dict[f'{hname}']['plot_opts'],\n",
    "              )\n"
   ]
  },
  {
   "cell_type": "code",
   "execution_count": null,
   "metadata": {},
   "outputs": [],
   "source": [
    "hname = 'mee'\n",
    "plotHistogram(values_dict[f'{hname}']['vals'],\n",
    "              values_dict[f'{hname}']['hist_opts'],\n",
    "              values_dict[f'{hname}']['plot_opts'],\n",
    "              )\n"
   ]
  },
  {
   "cell_type": "code",
   "execution_count": null,
   "metadata": {},
   "outputs": [],
   "source": [
    "hname = 'mmumu'\n",
    "plotHistogram(values_dict[f'{hname}']['vals'],\n",
    "              values_dict[f'{hname}']['hist_opts'],\n",
    "              values_dict[f'{hname}']['plot_opts'],\n",
    "              )\n"
   ]
  },
  {
   "cell_type": "code",
   "execution_count": 3,
   "metadata": {},
   "outputs": [
    {
     "data": {
      "application/vnd.jupyter.widget-view+json": {
       "model_id": "53be21fbc501484ab0ab706c2f8c41fd",
       "version_major": 2,
       "version_minor": 0
      },
      "text/html": [
       "\n",
       "            <div style=\"display: inline-block;\">\n",
       "                <div class=\"jupyter-widgets widget-label\" style=\"text-align: center;\">\n",
       "                    Figure\n",
       "                </div>\n",
       "                <img src='data:image/png;base64,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' width=640.0/>\n",
       "            </div>\n",
       "        "
      ],
      "text/plain": [
       "Canvas(toolbar=Toolbar(toolitems=[('Home', 'Reset original view', 'home', 'home'), ('Back', 'Back to previous …"
      ]
     },
     "metadata": {},
     "output_type": "display_data"
    },
    {
     "name": "stderr",
     "output_type": "stream",
     "text": [
      "Unhandled message type set_device_pixel_ratio. {'device_pixel_ratio': 1.6666666269302368, 'type': 'set_device_pixel_ratio'}\n"
     ]
    }
   ],
   "source": [
    "hname = 'firb_pt'\n",
    "plotHistogram(values_dict[f'{hname}']['vals'],\n",
    "              values_dict[f'{hname}']['hist_opts'],\n",
    "              values_dict[f'{hname}']['plot_opts'],\n",
    "              )"
   ]
  },
  {
   "cell_type": "code",
   "execution_count": null,
   "metadata": {},
   "outputs": [],
   "source": []
  }
 ],
 "metadata": {
  "kernelspec": {
   "display_name": "Python 3.6.8 ('venv': venv)",
   "language": "python",
   "name": "python3"
  },
  "language_info": {
   "codemirror_mode": {
    "name": "ipython",
    "version": 3
   },
   "file_extension": ".py",
   "mimetype": "text/x-python",
   "name": "python",
   "nbconvert_exporter": "python",
   "pygments_lexer": "ipython3",
   "version": "3.6.8"
  },
  "orig_nbformat": 4,
  "vscode": {
   "interpreter": {
    "hash": "ffc0e7004edd790e60668f7af0ed383fd7abc79e43dc18390786fae04475d979"
   }
  }
 },
 "nbformat": 4,
 "nbformat_minor": 2
}
