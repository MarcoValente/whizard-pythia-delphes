{
 "cells": [
  {
   "cell_type": "markdown",
   "metadata": {},
   "source": [
    "# HH analysis\n",
    "\n",
    "This notebook provides the necessary tools to produce the $HH\\rightarrow b\\bar{b} g g$ and $HH\\rightarrow b\\bar{b} W^+ W^-$ analysis. Firstly, let's import some useful python modules"
   ]
  },
  {
   "cell_type": "markdown",
   "metadata": {},
   "source": []
  },
  {
   "cell_type": "code",
   "execution_count": 1,
   "metadata": {},
   "outputs": [],
   "source": [
    "import treeloop.looper as l\n",
    "import treeloop.configvar as cv\n",
    "import treeloop.configsel as cs\n",
    "import numpy as np\n",
    "import awkward as ak"
   ]
  },
  {
   "cell_type": "code",
   "execution_count": 2,
   "metadata": {},
   "outputs": [],
   "source": [
    "jets_name='AKTjet'\n",
    "jets_vars = ['.PT', '.Eta', '.Phi', '.Mass', '.BTag', '_size']\n",
    "\n",
    "loopers = {\n",
    "    'sig' : l.looper('Delphes',\n",
    "                     ['../files/events/sig_test.root'],\n",
    "                     branches=[f'{jets_name}{v}' for v in jets_vars],\n",
    "                    ),\n",
    "    'bkg' : l.looper('Delphes',\n",
    "                     ['../files/events/tag_1_pythia8_events.delphes.root'],\n",
    "                     branches=[f'{jets_name}{v}' for v in jets_vars],\n",
    "                    ),\n",
    "}\n",
    "\n",
    "# Variables\n",
    "jet_n    = lambda event,sel_name=None: cv.var(event,f'{jets_name}_size',sel_name=sel_name)\n",
    "jet_pt   = lambda event,sel_name=None: cv.var(event,f'{jets_name}.PT',sel_name=sel_name)\n",
    "jet_eta  = lambda event,sel_name=None: cv.var(event,f'{jets_name}.Eta',sel_name=sel_name)\n",
    "jet_phi  = lambda event,sel_name=None: cv.var(event,f'{jets_name}.Phi',sel_name=sel_name)\n",
    "jet_mass = lambda event,sel_name=None: cv.var(event,f'{jets_name}.Mass',sel_name=sel_name)\n",
    "jet_btag = lambda event,sel_name=None: cv.var(event,f'{jets_name}.BTag',sel_name=sel_name)\n",
    "jet_i    = lambda event,sel_name=None: ak.argsort(ak.argsort(jet_pt(event,sel_name=sel_name), ascending=False))\n",
    "\n",
    "def jets_b_match(event, to_match, sel_name=None):\n",
    "    b_jets=jet_btag(event, sel_name=sel_name)\n",
    "    ret=None\n",
    "    for t in to_match:\n",
    "        _pass = (b_jets == t)\n",
    "        if ret is None: ret = _pass\n",
    "        else: ret = ret+ _pass\n",
    "    return ret\n",
    "\n",
    "jets_b_loo = lambda event, sel_name=None: jets_b_match(event, [4,5,6,7], sel_name=None)\n",
    "jets_b_med = lambda event, sel_name=None: jets_b_match(event, [2,3,6,7], sel_name=None)\n",
    "jets_b_tig = lambda event, sel_name=None: jets_b_match(event, [1,3,5,7], sel_name=None)\n",
    "\n",
    "ntag_loo = lambda event, sel_name=None: ak.count_nonzero(jets_b_loo(event,sel_name=sel_name),axis=1)\n",
    "ntag_med = lambda event, sel_name=None: ak.count_nonzero(jets_b_med(event,sel_name=sel_name),axis=1)\n",
    "ntag_tig = lambda event, sel_name=None: ak.count_nonzero(jets_b_tig(event,sel_name=sel_name),axis=1)\n",
    "\n",
    "# Selections\n",
    "sel_ntag_loo_two = lambda event,**kwargs: ntag_loo(event)==2\n",
    "sel_ntag_loo_two.__name__ = \"sel_ntag_loo_two\"\n",
    "\n",
    "sel_two_jet = lambda event, **kwargs: jet_n(event) >= 2\n",
    "sel_two_jet.__name__ = \"sel_two_jet\"\n"
   ]
  },
  {
   "cell_type": "code",
   "execution_count": 3,
   "metadata": {},
   "outputs": [],
   "source": [
    "def jet_vectors(event, sel_name=None):\n",
    "    pt   = jet_pt(event, sel_name=sel_name)\n",
    "    eta  = jet_eta(event, sel_name=sel_name)\n",
    "    phi  = jet_phi(event, sel_name=sel_name)\n",
    "    mass = jet_mass(event, sel_name=sel_name)\n",
    "\n",
    "    import vector as v\n",
    "    return v.zip({'pt':pt,'eta':eta,'phi':phi,'mass':mass})\n",
    "\n",
    "\n",
    "#jet_vecs = looper.variable(jet_vectors)\n",
    "#jetsel_b = looper.variable(jets_b_tig)\n",
    "#sel = ak.count_nonzero(jetsel_b, axis=1) == 2\n",
    "#et_vecs_b_loo = jet_vecs[jetsel_b][sel]\n"
   ]
  },
  {
   "cell_type": "code",
   "execution_count": 4,
   "metadata": {},
   "outputs": [],
   "source": [
    "# main_sel=cs.baseline\n",
    "main_sel =sel_two_jet\n",
    "\n",
    "vars_dict = {\n",
    "    #Useful variables\n",
    "    'jets_b_loo' : jets_b_loo,\n",
    "    'jets_b_med' : jets_b_med,\n",
    "    'jets_b_tig' : jets_b_tig,\n",
    "    'ntag_loo'   : ntag_loo,\n",
    "    'ntag_med'   : ntag_med,\n",
    "    'ntag_tig'   : ntag_tig,\n",
    "    'jet_pt'     : jet_pt,\n",
    "    'jet_eta'    : jet_eta,\n",
    "    'jet_phi'    : jet_phi,\n",
    "    'jet_mass'   : jet_mass,\n",
    "    'jet_i'      : jet_i,\n",
    "    'jets_4vect' : jet_vectors,\n",
    "}\n",
    "\n",
    "vals = {sample_name: loop.variables(vars_dict,selection=main_sel) for sample_name,loop in loopers.items()}\n",
    "\n",
    "leadjet_descr = {'fir': 0, 'sec': 1, 'thi': 2, 'fou': 3}\n",
    "\n",
    "sels = {\n",
    "    sample: {\n",
    "            f'sel_{jname}_jet': (vals[sample]['jet_i'][0] == index) \n",
    "            for jname,index in leadjet_descr.items()\n",
    "        } for sample in vals.keys()\n",
    "}\n",
    "\n",
    "for sample in vals.keys():\n",
    "    for _v in ['pt','eta','phi','mass']:\n",
    "        for jname in leadjet_descr.keys():\n",
    "            vals[sample][f'{jname}jet_{_v}'] = [ak.flatten(vals[sample][f'jet_{_v}'][i][sels[sample][f'sel_{jname}_jet']],axis=1) for i in [0,1]]"
   ]
  },
  {
   "cell_type": "code",
   "execution_count": 5,
   "metadata": {},
   "outputs": [
    {
     "data": {
      "text/plain": [
       "<Array [1, 1, 1, 1, 1, 1, ... 1, 1, 1, 1, 1, 1] type='6712 * float32'>"
      ]
     },
     "execution_count": 5,
     "metadata": {},
     "output_type": "execute_result"
    }
   ],
   "source": [
    "vals['sig']['secjet_pt'][1]"
   ]
  },
  {
   "cell_type": "markdown",
   "metadata": {},
   "source": [
    "## Quick plots"
   ]
  },
  {
   "cell_type": "code",
   "execution_count": 6,
   "metadata": {},
   "outputs": [],
   "source": [
    "import matplotlib.pyplot as plt\n",
    "\n",
    "def getAdaptiveBinning(*argv,bins=None,range=None,ncounts=5,**kwargs):\n",
    "    assert bins is not None, 'Please specify bins argument for getAdaptiveBinning(...)'\n",
    "    assert range is not None, 'Please specify range argument for getAdaptiveBinning(...)'\n",
    "    dx = abs(range[1]-range[0])/float(bins)\n",
    "    x_low = range[0]\n",
    "    x_high = range[0]\n",
    "    binning=[]\n",
    "\n",
    "    while x_low <= range[1]:\n",
    "        print(binning)\n",
    "        binning+=[x_low]\n",
    "        i=0\n",
    "        _next_step=True\n",
    "        while _next_step and x_high < range[1]:\n",
    "            i+=1\n",
    "            x_high = x_low + i*dx\n",
    "            for vals in argv:\n",
    "                _counts = ak.sum((vals>x_low) * (vals <= x_high) )\n",
    "                if _counts < ncounts:\n",
    "                    _next_step=False\n",
    "                    break\n",
    "        x_low=x_high\n",
    "    if binning[-1]!=range[1]:\n",
    "        binning[-1]=range[1]\n",
    "    return binning\n",
    "\n",
    "def makeHistComp(vals_sig,vals_bkg,doAdaptiveBinning=False,*args,**kwargs):\n",
    "    fig = plt.figure(figsize=(12, 8))\n",
    "    # bins = getAdaptiveBinning(vals_sig, vals_bkg, **kwargs)\n",
    "    # print(bins)\n",
    "    h_sig = plt.hist(vals_sig, *args, histtype='step', label='Signal', **kwargs)\n",
    "    h_bkg = plt.hist(vals_bkg, *args, histtype='step', label='Background', **kwargs)\n",
    "    # plt.xlabel('ntag')\n",
    "    plt.legend()\n",
    "    plt.show()\n",
    "\n",
    "    return h_sig, h_bkg\n"
   ]
  },
  {
   "cell_type": "code",
   "execution_count": 7,
   "metadata": {},
   "outputs": [
    {
     "data": {
      "image/png": "[encoded data removed]",
      "text/plain": [
       "<Figure size 864x576 with 1 Axes>"
      ]
     },
     "metadata": {
      "needs_background": "light"
     },
     "output_type": "display_data"
    }
   ],
   "source": [
    "varname = 'ntag_loo'\n",
    "h_sig,h_bkg = makeHistComp(vals['sig'][varname][0], vals['bkg'][varname][0],\n",
    "                           bins=10, \n",
    "                           density=False, \n",
    "                           range=(0, 10), \n",
    "                           doAdaptiveBinning=True,\n",
    "                           log=True)\n"
   ]
  },
  {
   "cell_type": "code",
   "execution_count": 120,
   "metadata": {},
   "outputs": [
    {
     "data": {
      "image/png": "[encoded data removed]",
      "text/plain": [
       "<Figure size 864x576 with 1 Axes>"
      ]
     },
     "metadata": {
      "needs_background": "light"
     },
     "output_type": "display_data"
    }
   ],
   "source": [
    "varname = 'firjet_pt'\n",
    "h_sig, h_bkg = makeHistComp(vals['sig'][varname][0], vals['bkg'][varname][0],\n",
    "                            bins=100,\n",
    "                            density=False,\n",
    "                            range=(0, 1000),\n",
    "                            log=True)\n"
   ]
  },
  {
   "cell_type": "code",
   "execution_count": 40,
   "metadata": {},
   "outputs": [
    {
     "data": {
      "text/plain": [
       "array([1.396e+03, 2.898e+03, 3.662e+03, 1.465e+03, 5.510e+02, 2.700e+01,\n",
       "       1.000e+00, 0.000e+00, 0.000e+00, 0.000e+00])"
      ]
     },
     "execution_count": 40,
     "metadata": {},
     "output_type": "execute_result"
    }
   ],
   "source": [
    "h_sig[0]"
   ]
  },
  {
   "cell_type": "markdown",
   "metadata": {},
   "source": [
    "## Statistical interpretation"
   ]
  },
  {
   "cell_type": "code",
   "execution_count": 52,
   "metadata": {},
   "outputs": [],
   "source": [
    "def testSignificance(bkg,sgn,systs=None, ntoys=2000):\n",
    "\n",
    "    import pyhf\n",
    "    pyhf.set_backend(pyhf.tensorlib, 'minuit')\n",
    "    import scipy.stats as st\n",
    "\n",
    "    data = [s+b for s,b in zip(sgn,bkg)]\n",
    "\n",
    "\n",
    "    model = pyhf.simplemodels.uncorrelated_background(\n",
    "        signal=sgn, \n",
    "        bkg=bkg, \n",
    "        bkg_uncertainty=systs if systs is not None else [0. for x in bkg] #no systematics\n",
    "    )\n",
    "    print(f'Testing significance for sgn={sgn} and bkg={bkg}')\n",
    "\n",
    "    obs = data + model.config.auxdata\n",
    "    test_mu = 0.0\n",
    "    pval = pyhf.infer.hypotest(test_mu, obs, model, test_stat=\"q0\", calctype='toybased', ntoys=ntoys)\n",
    "    sig = st.norm.isf(pval)\n",
    "    return pval,sig"
   ]
  },
  {
   "cell_type": "code",
   "execution_count": 53,
   "metadata": {},
   "outputs": [
    {
     "name": "stderr",
     "output_type": "stream",
     "text": [
      "/Users/valentem/cernbox/Projects/hepgenchain/venv/lib/python3.9/site-packages/pyhf/optimize/opt_minuit.py:136: IMinuitWarning: Hesse called with all parameters fixed\n",
      "  minimizer.hesse()\n"
     ]
    },
    {
     "name": "stdout",
     "output_type": "stream",
     "text": [
      "Testing significance for sgn=[240.0] and bkg=[6400.0]\n"
     ]
    },
    {
     "name": "stderr",
     "output_type": "stream",
     "text": [
      "                                                                      \r"
     ]
    },
    {
     "data": {
      "text/plain": [
       "(array(0.0025), 2.8070337683438042)"
      ]
     },
     "execution_count": 53,
     "metadata": {},
     "output_type": "execute_result"
    }
   ],
   "source": [
    "testSignificance([6400.],[3*80.]) #this should give 3 sigma significance"
   ]
  },
  {
   "cell_type": "code",
   "execution_count": 49,
   "metadata": {},
   "outputs": [
    {
     "name": "stdout",
     "output_type": "stream",
     "text": [
      "Testing significance for sgn=[13.96, 28.98, 36.62, 14.65, 5.51] and bkg=[1876.0, 4366.0, 3247.0, 483.0, 24.0]\n"
     ]
    },
    {
     "name": "stderr",
     "output_type": "stream",
     "text": [
      "                                                                      \r"
     ]
    },
    {
     "data": {
      "text/plain": [
       "(array(0.0565), 1.5848518438340828)"
      ]
     },
     "execution_count": 49,
     "metadata": {},
     "output_type": "execute_result"
    }
   ],
   "source": [
    "testSignificance(list(h_bkg[0])[:5],[x/100. for x in h_sig[0]][:5])"
   ]
  },
  {
   "cell_type": "markdown",
   "metadata": {},
   "source": [
    "## Classifier"
   ]
  },
  {
   "cell_type": "code",
   "execution_count": 36,
   "metadata": {},
   "outputs": [],
   "source": [
    "import pandas as pd\n",
    "from sklearn.preprocessing import MinMaxScaler\n",
    "from sklearn.model_selection import train_test_split\n",
    "from sklearn.metrics import classification_report, confusion_matrix\n",
    "from sklearn.ensemble import GradientBoostingClassifier,RandomForestClassifier"
   ]
  },
  {
   "cell_type": "code",
   "execution_count": 143,
   "metadata": {},
   "outputs": [
    {
     "name": "stdout",
     "output_type": "stream",
     "text": [
      "6712\n",
      "13424\n",
      "2.0\n"
     ]
    }
   ],
   "source": [
    "\n",
    "scaler = MinMaxScaler()\n",
    "\n",
    "rows_to_sel = ['ntag_tig', 'ntag_med','firjet_pt','firjet_eta','secjet_pt','secjet_pt']\n",
    "\n",
    "df_X = ak.to_pandas({f'{sample}': { \n",
    "                        f'{rowname}': vals[sample][rowname][0] \n",
    "                        for rowname in rows_to_sel\n",
    "                        } \n",
    "                   for sample in ['sig','bkg']\n",
    "                   })\n",
    "_N = df_X.shape[0]\n",
    "df_y = pd.DataFrame({'sig':[1]*_N,\n",
    "                     'bkg':[0]*_N \n",
    "                    })\n",
    "\n",
    "df_w = pd.DataFrame({'sig':[0.1]*_N,\n",
    "                     'bkg':[0.7]*_N \n",
    "                   })\n",
    "\n",
    "df_X = pd.concat([df_X['sig'], df_X['bkg']])\n",
    "df_y = pd.concat([df_y['sig'], df_y['bkg']])\n",
    "df_w = pd.concat([df_w['sig'], df_w['bkg']])\n",
    "\n",
    "print(_N)\n",
    "print(df_X.shape[0])\n",
    "print(df_X.shape[0]/_N)\n",
    "\n",
    "# n_train = round(df.shape[0]/2)\n",
    "# X_train = scaler.fit_transform(df.values[:n_train])\n",
    "# X_test  = scaler.transform(df.values[n_train:])\n"
   ]
  },
  {
   "cell_type": "code",
   "execution_count": 150,
   "metadata": {},
   "outputs": [
    {
     "name": "stdout",
     "output_type": "stream",
     "text": [
      "Learning rate:  0.05\n",
      "Accuracy score (training): 0.879\n",
      "Accuracy score (validation): 0.884\n",
      "Learning rate:  0.075\n",
      "Accuracy score (training): 0.882\n",
      "Accuracy score (validation): 0.887\n",
      "Learning rate:  0.1\n",
      "Accuracy score (training): 0.889\n",
      "Accuracy score (validation): 0.892\n",
      "Learning rate:  0.25\n",
      "Accuracy score (training): 0.898\n",
      "Accuracy score (validation): 0.903\n",
      "Learning rate:  0.5\n",
      "Accuracy score (training): 0.904\n",
      "Accuracy score (validation): 0.904\n",
      "Learning rate:  0.75\n",
      "Accuracy score (training): 0.906\n",
      "Accuracy score (validation): 0.900\n",
      "Learning rate:  1\n",
      "Accuracy score (training): 0.904\n",
      "Accuracy score (validation): 0.899\n",
      "[ 2.23686442 -1.57455321 -2.09976398 ... -1.85586336  3.24341917\n",
      " -1.23262754]\n",
      "Confusion Matrix:\n",
      "[[949.9  11.9]\n",
      " [ 93.5  37.6]]\n",
      "Classification Report\n",
      "              precision    recall  f1-score   support\n",
      "\n",
      "           0       0.91      0.99      0.95 961.8000000000234\n",
      "           1       0.76      0.29      0.42 131.09999999999684\n",
      "\n",
      "    accuracy                           0.90 1092.90000000002\n",
      "   macro avg       0.83      0.64      0.68 1092.90000000002\n",
      "weighted avg       0.89      0.90      0.88 1092.90000000002\n",
      "\n"
     ]
    }
   ],
   "source": [
    "state = 12\n",
    "test_size = 0.20\n",
    "\n",
    "X_train, X_val, y_train, y_val, w_train, w_val = train_test_split(df_X, df_y, df_w,\n",
    "                                                  test_size=test_size, random_state=state)\n",
    "\n",
    "lr_list = [0.05, 0.075, 0.1, 0.25, 0.5, 0.75, 1]\n",
    "\n",
    "for learning_rate in lr_list:\n",
    "    gb_clf = GradientBoostingClassifier(\n",
    "        n_estimators=20, learning_rate=learning_rate, max_features=2, max_depth=2, random_state=0)\n",
    "    gb_clf.fit(X_train, y_train, sample_weight=w_train)\n",
    "\n",
    "    print(\"Learning rate: \", learning_rate)\n",
    "    print(\"Accuracy score (training): {0:.3f}\".format(\n",
    "        gb_clf.score(X_train, y_train, sample_weight=w_train)))\n",
    "    print(\"Accuracy score (validation): {0:.3f}\".format(\n",
    "        gb_clf.score(X_val, y_val, sample_weight=w_val)))\n",
    "\n",
    "gb_clf2 = GradientBoostingClassifier(\n",
    "    n_estimators=20, learning_rate=0.5, max_features=2, max_depth=2, random_state=0)\n",
    "gb_clf2.fit(X_train, y_train,sample_weight=w_train)\n",
    "predictions = gb_clf2.predict(X_val)\n",
    "predictions_prob = gb_clf2.predict_proba(X_val)\n",
    "decision_func = gb_clf2.decision_function(X_val)\n",
    "scores = gb_clf2.score(X_val, y_val, sample_weight=w_val)\n",
    "# print(predictions)\n",
    "# print(scores,)\n",
    "print(decision_func)\n",
    "\n",
    "print(\"Confusion Matrix:\")\n",
    "print(confusion_matrix(y_val, predictions, sample_weight=w_val))\n",
    "\n",
    "print(\"Classification Report\")\n",
    "print(classification_report(y_val, predictions, sample_weight=w_val))\n",
    "\n"
   ]
  },
  {
   "cell_type": "code",
   "execution_count": 157,
   "metadata": {},
   "outputs": [
    {
     "data": {
      "image/png": "[encoded data removed]",
      "text/plain": [
       "<Figure size 864x576 with 1 Axes>"
      ]
     },
     "metadata": {
      "needs_background": "light"
     },
     "output_type": "display_data"
    }
   ],
   "source": [
    "h_sig, h_bkg = makeHistComp(decision_func[y_val == 1], decision_func[y_val == 0],\n",
    "                            bins=100,\n",
    "                            density=False,\n",
    "                            range=(-10, 10),\n",
    "                            log=True)\n"
   ]
  },
  {
   "cell_type": "code",
   "execution_count": 126,
   "metadata": {},
   "outputs": [
    {
     "name": "stdout",
     "output_type": "stream",
     "text": [
      "Learning rate:  1\n",
      "Accuracy score (training): 1.000\n",
      "Accuracy score (validation): 0.714\n",
      "Predictions:\n",
      "[1 0 1 ... 0 1 1]\n"
     ]
    }
   ],
   "source": [
    "state = 12\n",
    "test_size = 0.20\n",
    "\n",
    "X_train, X_val, y_train, y_val = train_test_split(df_X, df_y,\n",
    "                                                  test_size=test_size, random_state=state)\n",
    "\n",
    "\n",
    "rf_clf = RandomForestClassifier(\n",
    "    n_estimators=100)\n",
    "    # learning_rate=learning_rate, max_features=2, max_depth=2, random_state=0)\n",
    "rf_clf.fit(X_train, y_train)\n",
    "y_pred=rf_clf.predict(X_val)\n",
    "\n",
    "print(\"Learning rate: \", learning_rate)\n",
    "print(\"Accuracy score (training): {0:.3f}\".format(\n",
    "    rf_clf.score(X_train, y_train)))\n",
    "print(\"Accuracy score (validation): {0:.3f}\".format(\n",
    "    rf_clf.score(X_val, y_val)))\n",
    "\n",
    "print('Predictions:')\n",
    "print(y_pred)\n",
    "\n",
    "\n",
    "# gb_clf2 = GradientBoostingClassifier(\n",
    "#     n_estimators=20, learning_rate=0.5, max_features=2, max_depth=2, random_state=0)\n",
    "# gb_clf2.fit(X_train, y_train)\n",
    "# predictions = gb_clf2.predict(X_val)\n",
    "# print(np.sum(predictions))\n",
    "\n",
    "# print(\"Confusion Matrix:\")\n",
    "# print(confusion_matrix(y_val, predictions))\n",
    "\n",
    "# print(\"Classification Report\")\n",
    "# print(classification_report(y_val, predictions))\n"
   ]
  },
  {
   "cell_type": "code",
   "execution_count": 44,
   "metadata": {},
   "outputs": [
    {
     "ename": "ModuleNotFoundError",
     "evalue": "No module named 'xgboost'",
     "output_type": "error",
     "traceback": [
      "\u001b[0;31m---------------------------------------------------------------------------\u001b[0m",
      "\u001b[0;31mModuleNotFoundError\u001b[0m                       Traceback (most recent call last)",
      "\u001b[0;32m/var/folders/25/ftyrgdf53sz40g6yjgy1y1mh0000gn/T/ipykernel_59965/612567534.py\u001b[0m in \u001b[0;36m<module>\u001b[0;34m\u001b[0m\n\u001b[0;32m----> 1\u001b[0;31m \u001b[0;32mfrom\u001b[0m \u001b[0mxgboost\u001b[0m \u001b[0;32mimport\u001b[0m \u001b[0mXGBClassifier\u001b[0m\u001b[0;34m\u001b[0m\u001b[0;34m\u001b[0m\u001b[0m\n\u001b[0m\u001b[1;32m      2\u001b[0m \u001b[0mxgb_clf\u001b[0m \u001b[0;34m=\u001b[0m \u001b[0mXGBClassifier\u001b[0m\u001b[0;34m(\u001b[0m\u001b[0;34m)\u001b[0m\u001b[0;34m\u001b[0m\u001b[0;34m\u001b[0m\u001b[0m\n\u001b[1;32m      3\u001b[0m \u001b[0mxgb_clf\u001b[0m\u001b[0;34m.\u001b[0m\u001b[0mfit\u001b[0m\u001b[0;34m(\u001b[0m\u001b[0mX_train\u001b[0m\u001b[0;34m,\u001b[0m \u001b[0my_train\u001b[0m\u001b[0;34m)\u001b[0m\u001b[0;34m\u001b[0m\u001b[0;34m\u001b[0m\u001b[0m\n\u001b[1;32m      4\u001b[0m \u001b[0;34m\u001b[0m\u001b[0m\n\u001b[1;32m      5\u001b[0m \u001b[0mscore\u001b[0m \u001b[0;34m=\u001b[0m \u001b[0mxgb_clf\u001b[0m\u001b[0;34m.\u001b[0m\u001b[0mscore\u001b[0m\u001b[0;34m(\u001b[0m\u001b[0mX_val\u001b[0m\u001b[0;34m,\u001b[0m \u001b[0my_val\u001b[0m\u001b[0;34m)\u001b[0m\u001b[0;34m\u001b[0m\u001b[0;34m\u001b[0m\u001b[0m\n",
      "\u001b[0;31mModuleNotFoundError\u001b[0m: No module named 'xgboost'"
     ]
    }
   ],
   "source": [
    "from xgboost import XGBClassifier\n",
    "xgb_clf = XGBClassifier()\n",
    "xgb_clf.fit(X_train, y_train)\n",
    "\n",
    "score = xgb_clf.score(X_val, y_val)\n",
    "print(score)\n"
   ]
  },
  {
   "cell_type": "markdown",
   "metadata": {},
   "source": []
  }
 ],
 "metadata": {
  "interpreter": {
   "hash": "8dc8c259e53a2e756836740c8f8ac8ad30e2ebbb2140ebd25d7d412daf6c1b40"
  },
  "kernelspec": {
   "display_name": "Python 3.9.1 ('venv': venv)",
   "language": "python",
   "name": "python3"
  },
  "language_info": {
   "codemirror_mode": {
    "name": "ipython",
    "version": 3
   },
   "file_extension": ".py",
   "mimetype": "text/x-python",
   "name": "python",
   "nbconvert_exporter": "python",
   "pygments_lexer": "ipython3",
   "version": "3.9.1"
  },
  "orig_nbformat": 4
 },
 "nbformat": 4,
 "nbformat_minor": 2
}
